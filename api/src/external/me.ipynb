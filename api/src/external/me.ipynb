{
 "cells": [
  {
   "cell_type": "code",
   "execution_count": 5,
   "metadata": {},
   "outputs": [],
   "source": [
    "import pandas as pd\n",
    "df = pd.read_excel(r\"C:\\Users\\greys\\projects\\azure-swa\\my-static-web-app\\api\\src\\external\\products\\v1\\products.xlsx\")\n",
    "df['name'].duplicated().sum()\n",
    "df.drop_duplicates(subset=['name'], inplace=True)\n",
    "df['name'].duplicated().sum()\n",
    "df.to_excel(r'C:\\Users\\greys\\projects\\azure-swa\\my-static-web-app\\api\\src\\external\\products\\v2\\products.xlsx', index=False)"
   ]
  },
  {
   "cell_type": "code",
   "execution_count": null,
   "metadata": {},
   "outputs": [],
   "source": [
    "import pandas as pd\n",
    "from ast import literal_eval\n",
    "\n",
    "ing_path=r\"C:\\Users\\greys\\projects\\azure-swa\\my-static-web-app\\api\\src\\external\\ingredients\\v1\\ingredients.xlsx\"\n",
    "prd_path=r\"C:\\Users\\greys\\projects\\azure-swa\\my-static-web-app\\api\\src\\external\\products\\v2\\products.xlsx\"\n",
    "\n",
    "# Load your Excel file\n",
    "ing_df = pd.read_excel(ing_path)\n",
    "ing_df['name'] = ing_df['name'].apply(lambda x: str(x).lower().replace(\" \",\"_\"))\n",
    "\n",
    "# Load your Excel file\n",
    "prd_df = pd.read_excel(prd_path)\n",
    "prd=prd_df.iloc[0]\n",
    "ings=literal_eval(prd.ingredient_list)\n",
    "prd_ings=ing_df.loc[ing_df.name.isin(ings)]\n",
    "prd_ings\n",
    "\n",
    "prd_ings=prd_ings.loc[prd_ings.dislikes >0]\n",
    "prd_ings[\"like_ratio\"]=prd_ings.likes / (prd_ings.likes + prd_ings.dislikes)\n",
    "prd_ings.like_ratio.mean()\n",
    "\n",
    "# TODO: Include alias into ingredient names\n",
    "def apply_like_ratio(row):\n",
    "    ings=literal_eval(row.ingredient_list)\n",
    "    prd_ings=ing_df.loc[ing_df.name.isin(ings)]\n",
    "    prd_ings=prd_ings.loc[prd_ings.dislikes >0]\n",
    "    prd_ings[\"like_ratio\"]=prd_ings.likes / (prd_ings.likes + prd_ings.dislikes)\n",
    "    row[\"like_ratio\"]=prd_ings.like_ratio.mean()\n",
    "    return row\n",
    "qant_list = prd_df.dropna(subset=[\"ingredient_list\"]).apply(apply_like_ratio, axis=1)\n",
    "qant_list.sort_values(\"like_ratio\", ascending=False)\n",
    "    \n",
    "qant_list.shape\n",
    "import pandas as pd\n",
    "pd.options.plotting.backend = \"plotly\"\n",
    "\n",
    "# Assuming df is your DataFrame and 'like_ratio' is your column of interest\n",
    "\n",
    "qant_list['like_ratio'].plot(kind='hist', nbins=50, title='Like Ratio Histogram')\n",
    "\n",
    "\n",
    "prd_df.type.unique()\n",
    "import pandas as pd\n",
    "\n",
    "pd.options.plotting.backend = \"plotly\"\n",
    "\n",
    "# Assuming df is your DataFrame\n",
    "\n",
    "for typ, group_df in qant_list.groupby('type'):\n",
    "    fig = group_df['like_ratio'].plot(kind='hist', nbins=50, title=f'Like Ratio Histogram for Type: {typ}')\n",
    "    fig.show()"
   ]
  }
 ],
 "metadata": {
  "kernelspec": {
   "display_name": "snpdemo",
   "language": "python",
   "name": "python3"
  },
  "language_info": {
   "codemirror_mode": {
    "name": "ipython",
    "version": 3
   },
   "file_extension": ".py",
   "mimetype": "text/x-python",
   "name": "python",
   "nbconvert_exporter": "python",
   "pygments_lexer": "ipython3",
   "version": "3.10.11"
  },
  "orig_nbformat": 4
 },
 "nbformat": 4,
 "nbformat_minor": 2
}
