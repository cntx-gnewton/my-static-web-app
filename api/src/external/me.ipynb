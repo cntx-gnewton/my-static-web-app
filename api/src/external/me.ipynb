{
 "cells": [
  {
   "cell_type": "code",
   "execution_count": 5,
   "metadata": {},
   "outputs": [],
   "source": [
    "import pandas as pd\n",
    "df = pd.read_excel(r\"C:\\Users\\greys\\projects\\azure-swa\\my-static-web-app\\api\\src\\external\\products\\v1\\products.xlsx\")\n",
    "df['name'].duplicated().sum()\n",
    "df.drop_duplicates(subset=['name'], inplace=True)\n",
    "df['name'].duplicated().sum()\n",
    "df.to_excel(r'C:\\Users\\greys\\projects\\azure-swa\\my-static-web-app\\api\\src\\external\\products\\v2\\products.xlsx', index=False)"
   ]
  },
  {
   "cell_type": "code",
   "execution_count": null,
   "metadata": {},
   "outputs": [],
   "source": []
  }
 ],
 "metadata": {
  "kernelspec": {
   "display_name": "snpdemo",
   "language": "python",
   "name": "python3"
  },
  "language_info": {
   "codemirror_mode": {
    "name": "ipython",
    "version": 3
   },
   "file_extension": ".py",
   "mimetype": "text/x-python",
   "name": "python",
   "nbconvert_exporter": "python",
   "pygments_lexer": "ipython3",
   "version": "3.10.11"
  },
  "orig_nbformat": 4
 },
 "nbformat": 4,
 "nbformat_minor": 2
}
