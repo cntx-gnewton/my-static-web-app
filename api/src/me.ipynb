{
 "cells": [
  {
   "cell_type": "code",
   "execution_count": 3,
   "metadata": {},
   "outputs": [],
   "source": [
    "from pipeline.utils.helpers import *\n",
    "from pipeline.snp_pipeline import SNP_Pipeline\n",
    "import os \n",
    "\n",
    "api_path = r\"C:\\Users\\greys\\projects\\azure-swa\\my-static-web-app\\api\"\n",
    "config_path = join(api_path, 'configs')\n",
    "template_path = join(config_path, 'templates')\n",
    "os.environ['API_PATH'] = api_path\n",
    "os.environ['CONFIG_PATH'] = config_path\n",
    "os.environ['TEMPLATE_PATH'] = template_path"
   ]
  },
  {
   "cell_type": "code",
   "execution_count": 8,
   "metadata": {},
   "outputs": [
    {
     "name": "stdout",
     "output_type": "stream",
     "text": [
      "output_path='c:\\\\Users\\\\greys\\\\projects\\\\azure-swa\\\\my-static-web-app\\\\api\\\\src\\\\configs\\\\pipeline.yml'\n",
      "template_name='pipeline_template.yml'\n"
     ]
    },
    {
     "ename": "TemplateNotFound",
     "evalue": "pipeline_template.yml",
     "output_type": "error",
     "traceback": [
      "\u001b[1;31m---------------------------------------------------------------------------\u001b[0m",
      "\u001b[1;31mTemplateNotFound\u001b[0m                          Traceback (most recent call last)",
      "Cell \u001b[1;32mIn[8], line 5\u001b[0m\n\u001b[0;32m      2\u001b[0m TEMPLATE_PATH \u001b[39m=\u001b[39m \u001b[39mr\u001b[39m\u001b[39m\"\u001b[39m\u001b[39mC:\u001b[39m\u001b[39m\\\u001b[39m\u001b[39mUsers\u001b[39m\u001b[39m\\\u001b[39m\u001b[39mgreys\u001b[39m\u001b[39m\\\u001b[39m\u001b[39mprojects\u001b[39m\u001b[39m\\\u001b[39m\u001b[39mazure-swa\u001b[39m\u001b[39m\\\u001b[39m\u001b[39mmy-static-web-app\u001b[39m\u001b[39m\\\u001b[39m\u001b[39mapi\u001b[39m\u001b[39m\\\u001b[39m\u001b[39mconfigs\u001b[39m\u001b[39m\\\u001b[39m\u001b[39mtemplates\u001b[39m\u001b[39m\"\u001b[39m\n\u001b[0;32m      4\u001b[0m TEST_JOB_NAME \u001b[39m=\u001b[39m \u001b[39m\"\u001b[39m\u001b[39mgenome_Test_Job\u001b[39m\u001b[39m\"\u001b[39m\n\u001b[1;32m----> 5\u001b[0m pipeline_config \u001b[39m=\u001b[39m Template(TEMPLATE_PATH, CONFIG_PATH)\u001b[39m.\u001b[39;49mrender(\n\u001b[0;32m      6\u001b[0m     template_name\u001b[39m=\u001b[39;49m\u001b[39m\"\u001b[39;49m\u001b[39mpipeline_template.yml\u001b[39;49m\u001b[39m\"\u001b[39;49m,\n\u001b[0;32m      7\u001b[0m     jinja_vars\u001b[39m=\u001b[39;49m{\u001b[39m'\u001b[39;49m\u001b[39mapi_path\u001b[39;49m\u001b[39m'\u001b[39;49m: os\u001b[39m.\u001b[39;49menviron[\u001b[39m'\u001b[39;49m\u001b[39mAPI_PATH\u001b[39;49m\u001b[39m'\u001b[39;49m]},\n\u001b[0;32m      8\u001b[0m     to_dict\u001b[39m=\u001b[39;49m\u001b[39mTrue\u001b[39;49;00m\n\u001b[0;32m      9\u001b[0m )[\u001b[39m'\u001b[39m\u001b[39msnp_pipeline\u001b[39m\u001b[39m'\u001b[39m]\n\u001b[0;32m     11\u001b[0m job_config \u001b[39m=\u001b[39m Template(TEMPLATE_PATH, CONFIG_PATH)\u001b[39m.\u001b[39mrender(\n\u001b[0;32m     12\u001b[0m     template_name\u001b[39m=\u001b[39m\u001b[39m\"\u001b[39m\u001b[39mjob_template.yml\u001b[39m\u001b[39m\"\u001b[39m,\n\u001b[0;32m     13\u001b[0m     config_name\u001b[39m=\u001b[39mTEST_JOB_NAME,\n\u001b[1;32m   (...)\u001b[0m\n\u001b[0;32m     19\u001b[0m     to_dict\u001b[39m=\u001b[39m\u001b[39mTrue\u001b[39;00m\n\u001b[0;32m     20\u001b[0m )\n\u001b[0;32m     23\u001b[0m pipeline \u001b[39m=\u001b[39m SNP_Pipeline(pipeline_config)\n",
      "File \u001b[1;32mc:\\Users\\greys\\projects\\azure-swa\\my-static-web-app\\api\\src\\pipeline\\utils\\helpers.py:85\u001b[0m, in \u001b[0;36mTemplate.render\u001b[1;34m(self, template_name, jinja_vars, config_name, output_dir, to_dict)\u001b[0m\n\u001b[0;32m     83\u001b[0m \u001b[39mprint\u001b[39m(\u001b[39mf\u001b[39m\u001b[39m'\u001b[39m\u001b[39m{\u001b[39;00moutput_path\u001b[39m=}\u001b[39;00m\u001b[39m'\u001b[39m)\n\u001b[0;32m     84\u001b[0m \u001b[39mprint\u001b[39m(\u001b[39mf\u001b[39m\u001b[39m\"\u001b[39m\u001b[39m{\u001b[39;00mtemplate_name\u001b[39m=}\u001b[39;00m\u001b[39m\"\u001b[39m)\n\u001b[1;32m---> 85\u001b[0m template \u001b[39m=\u001b[39m \u001b[39mself\u001b[39;49m\u001b[39m.\u001b[39;49menv\u001b[39m.\u001b[39;49mget_template(template_name)\n\u001b[0;32m     86\u001b[0m \u001b[39mtry\u001b[39;00m:\n\u001b[0;32m     87\u001b[0m     \u001b[39m# for key, value in jinja_vars.items():\u001b[39;00m\n\u001b[0;32m     88\u001b[0m     \u001b[39m#     logging.info(f'rendering {key} {value}')\u001b[39;00m\n\u001b[0;32m     90\u001b[0m     rendered_config \u001b[39m=\u001b[39m template\u001b[39m.\u001b[39mrender(\u001b[39m*\u001b[39m\u001b[39m*\u001b[39mjinja_vars)\n",
      "File \u001b[1;32mc:\\Users\\greys\\anaconda3\\envs\\snpdemo\\lib\\site-packages\\jinja2\\environment.py:1010\u001b[0m, in \u001b[0;36mEnvironment.get_template\u001b[1;34m(self, name, parent, globals)\u001b[0m\n\u001b[0;32m   1007\u001b[0m \u001b[39mif\u001b[39;00m parent \u001b[39mis\u001b[39;00m \u001b[39mnot\u001b[39;00m \u001b[39mNone\u001b[39;00m:\n\u001b[0;32m   1008\u001b[0m     name \u001b[39m=\u001b[39m \u001b[39mself\u001b[39m\u001b[39m.\u001b[39mjoin_path(name, parent)\n\u001b[1;32m-> 1010\u001b[0m \u001b[39mreturn\u001b[39;00m \u001b[39mself\u001b[39;49m\u001b[39m.\u001b[39;49m_load_template(name, \u001b[39mglobals\u001b[39;49m)\n",
      "File \u001b[1;32mc:\\Users\\greys\\anaconda3\\envs\\snpdemo\\lib\\site-packages\\jinja2\\environment.py:969\u001b[0m, in \u001b[0;36mEnvironment._load_template\u001b[1;34m(self, name, globals)\u001b[0m\n\u001b[0;32m    965\u001b[0m             template\u001b[39m.\u001b[39mglobals\u001b[39m.\u001b[39mupdate(\u001b[39mglobals\u001b[39m)\n\u001b[0;32m    967\u001b[0m         \u001b[39mreturn\u001b[39;00m template\n\u001b[1;32m--> 969\u001b[0m template \u001b[39m=\u001b[39m \u001b[39mself\u001b[39;49m\u001b[39m.\u001b[39;49mloader\u001b[39m.\u001b[39;49mload(\u001b[39mself\u001b[39;49m, name, \u001b[39mself\u001b[39;49m\u001b[39m.\u001b[39;49mmake_globals(\u001b[39mglobals\u001b[39;49m))\n\u001b[0;32m    971\u001b[0m \u001b[39mif\u001b[39;00m \u001b[39mself\u001b[39m\u001b[39m.\u001b[39mcache \u001b[39mis\u001b[39;00m \u001b[39mnot\u001b[39;00m \u001b[39mNone\u001b[39;00m:\n\u001b[0;32m    972\u001b[0m     \u001b[39mself\u001b[39m\u001b[39m.\u001b[39mcache[cache_key] \u001b[39m=\u001b[39m template\n",
      "File \u001b[1;32mc:\\Users\\greys\\anaconda3\\envs\\snpdemo\\lib\\site-packages\\jinja2\\loaders.py:126\u001b[0m, in \u001b[0;36mBaseLoader.load\u001b[1;34m(self, environment, name, globals)\u001b[0m\n\u001b[0;32m    122\u001b[0m     \u001b[39mglobals\u001b[39m \u001b[39m=\u001b[39m {}\n\u001b[0;32m    124\u001b[0m \u001b[39m# first we try to get the source for this template together\u001b[39;00m\n\u001b[0;32m    125\u001b[0m \u001b[39m# with the filename and the uptodate function.\u001b[39;00m\n\u001b[1;32m--> 126\u001b[0m source, filename, uptodate \u001b[39m=\u001b[39m \u001b[39mself\u001b[39;49m\u001b[39m.\u001b[39;49mget_source(environment, name)\n\u001b[0;32m    128\u001b[0m \u001b[39m# try to load the code from the bytecode cache if there is a\u001b[39;00m\n\u001b[0;32m    129\u001b[0m \u001b[39m# bytecode cache configured.\u001b[39;00m\n\u001b[0;32m    130\u001b[0m bcc \u001b[39m=\u001b[39m environment\u001b[39m.\u001b[39mbytecode_cache\n",
      "File \u001b[1;32mc:\\Users\\greys\\anaconda3\\envs\\snpdemo\\lib\\site-packages\\jinja2\\loaders.py:218\u001b[0m, in \u001b[0;36mFileSystemLoader.get_source\u001b[1;34m(self, environment, template)\u001b[0m\n\u001b[0;32m    216\u001b[0m     \u001b[39m# Use normpath to convert Windows altsep to sep.\u001b[39;00m\n\u001b[0;32m    217\u001b[0m     \u001b[39mreturn\u001b[39;00m contents, os\u001b[39m.\u001b[39mpath\u001b[39m.\u001b[39mnormpath(filename), uptodate\n\u001b[1;32m--> 218\u001b[0m \u001b[39mraise\u001b[39;00m TemplateNotFound(template)\n",
      "\u001b[1;31mTemplateNotFound\u001b[0m: pipeline_template.yml"
     ]
    }
   ],
   "source": [
    "CONFIG_PATH = r\"C:\\Users\\greys\\projects\\azure-swa\\my-static-web-app\\api\\configs\"\n",
    "TEMPLATE_PATH = r\"C:\\Users\\greys\\projects\\azure-swa\\my-static-web-app\\api\\configs\\templates\"\n",
    "\n",
    "TEST_JOB_NAME = \"genome_Test_Job\"\n",
    "pipeline_config = Template(TEMPLATE_PATH, CONFIG_PATH).render(\n",
    "    template_name=\"pipeline_template.yml\",\n",
    "    jinja_vars={'api_path': os.environ['API_PATH']},\n",
    "    to_dict=True\n",
    ")['snp_pipeline']\n",
    "\n",
    "job_config = Template(TEMPLATE_PATH, CONFIG_PATH).render(\n",
    "    template_name=\"job_template.yml\",\n",
    "    config_name=TEST_JOB_NAME,\n",
    "    output_dir = pipeline_config['namespaces']['jobs'],\n",
    "    jinja_vars={\n",
    "        'name': TEST_JOB_NAME,\n",
    "        'job_dir': pipeline_config['namespaces']['jobs']\n",
    "        },\n",
    "    to_dict=True\n",
    ")\n",
    "\n",
    "\n",
    "pipeline = SNP_Pipeline(pipeline_config)\n",
    "pipeline.run_job(job_config)\n",
    "results = pipeline.serialize_products()\n",
    "results"
   ]
  },
  {
   "cell_type": "code",
   "execution_count": null,
   "metadata": {},
   "outputs": [],
   "source": []
  }
 ],
 "metadata": {
  "kernelspec": {
   "display_name": "snpdemo",
   "language": "python",
   "name": "python3"
  },
  "language_info": {
   "codemirror_mode": {
    "name": "ipython",
    "version": 3
   },
   "file_extension": ".py",
   "mimetype": "text/x-python",
   "name": "python",
   "nbconvert_exporter": "python",
   "pygments_lexer": "ipython3",
   "version": "3.10.11"
  },
  "orig_nbformat": 4
 },
 "nbformat": 4,
 "nbformat_minor": 2
}
