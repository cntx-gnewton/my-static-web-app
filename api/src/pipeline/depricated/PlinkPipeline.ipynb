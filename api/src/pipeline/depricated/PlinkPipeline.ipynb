{
 "cells": [
  {
   "cell_type": "code",
   "execution_count": null,
   "metadata": {},
   "outputs": [],
   "source": [
    "import subprocess\n",
    "\n",
    "\n",
    "class PlinkPipeline:\n",
    "    def __init__(self, input_prefix, output_prefix, plink2_path):\n",
    "        self.plink2_path = plink2_path\n",
    "        self.input_prefix = input_prefix\n",
    "        self.output_prefix = output_prefix\n",
    "\n",
    "    def run_command(self, cmd):\n",
    "        subprocess.run(cmd, check=True)\n",
    "\n",
    "    def quality_control(self):\n",
    "        cmd = [self.plink2_path, \"--bfile\", self.input_prefix, \"--maf\", \"0.01\",\n",
    "               \"--geno\", \"0.05\", \"--hwe\", \"1e-6\", \"--make-bed\", \"--out\", \"temp\"]\n",
    "        self.run_command(cmd)\n",
    "\n",
    "    def filter_samples_and_variants(self):\n",
    "        cmd = [self.plink2_path, \"--bfile\", \"temp\", \"--mind\",\n",
    "               \"0.1\", \"--geno\", \"0.05\", \"--make-bed\", \"--out\", \"temp2\"]\n",
    "        self.run_command(cmd)\n",
    "\n",
    "    def format_output(self):\n",
    "        cmd = [self.plink2_path, \"--bfile\", \"temp2\",\n",
    "               \"--recode\", \"vcf\", \"--out\", self.output_prefix]\n",
    "        self.run_command(cmd)\n",
    "\n",
    "    def run_pipeline(self):\n",
    "        self.quality_control()\n",
    "        self.filter_samples_and_variants()\n",
    "        self.format_output()\n",
    "\n",
    "\n",
    "# Adjust this to the actual path of your plink2 executable\n",
    "plink2_path = r\"C:\\Users\\greys\\OneDrive\\Downloads\\plink2\\plink2.exe\"\n",
    "input_prefix = 'output'  # The prefix of the input BED, BIM, and FAM files\n",
    "output_prefix = 'final_output'  # The prefix of the output VCF file\n",
    "txt_input_file = 'sample.txt'  # The path to the .txt file you want to convert\n",
    "\n",
    "pipeline =\n"
   ]
  }
 ],
 "metadata": {
  "language_info": {
   "name": "python"
  },
  "orig_nbformat": 4
 },
 "nbformat": 4,
 "nbformat_minor": 2
}
