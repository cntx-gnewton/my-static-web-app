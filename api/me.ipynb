{
 "cells": [
  {
   "cell_type": "code",
   "execution_count": 36,
   "metadata": {},
   "outputs": [
    {
     "data": {
      "text/plain": [
       "array(['alcohol_free', 'silicon_free', 'contains_fragrance',\n",
       "       'sulfate_free', 'paraben_free', 'oil_free', 'malassezia_safe',\n",
       "       'reef_safe', 'eu_allergen_free', 'vegan', 'cruelty_free',\n",
       "       'contains_silicon', 'contains_sulfate', 'not_malassezia_safe',\n",
       "       'not_cruelty_free', 'fragrance_free', 'non_vegan',\n",
       "       'contains_parabens', 'contains_oils', 'contains_alcohol',\n",
       "       'contains_eu_allergens', 'not_reef_safe'], dtype=object)"
      ]
     },
     "execution_count": 36,
     "metadata": {},
     "output_type": "execute_result"
    }
   ],
   "source": [
    "import pandas as pd\n",
    "from ast import literal_eval\n",
    "def preprocess(d,eval=False):\n",
    "    if eval:\n",
    "        return preprocess(literal_eval(d))\n",
    "    if isinstance(d,dict):\n",
    "        return { preprocess(k):preprocess(v) for k,v in d.items() }\n",
    "    elif isinstance(d,list):\n",
    "        return [preprocess(i) for i in d]\n",
    "    elif isinstance(d,str):\n",
    "        return d.replace(' ', '_').lower()\n",
    "    \n",
    "df = pd.read_excel(r\"C:\\Users\\greys\\projects\\azure-swa\\my-static-web-app\\api\\src\\external\\products\\v2\\products.xlsx\").dropna()\n",
    "unique_aspects = pd.unique([item for sublist in df['aspect_list'].apply(preprocess, eval=True) for item in sublist])\n",
    "unique_aspects\n",
    "# pd.DataFrame(unique_aspects).to_csv(r\"C:\\Users\\greys\\projects\\azure-swa\\my-static-web-app\\api\\src\\external\\products\\v2\\product_identifiers.csv\", index=False, header=False)"
   ]
  },
  {
   "cell_type": "code",
   "execution_count": 34,
   "metadata": {},
   "outputs": [
    {
     "data": {
      "text/plain": [
       "array(['may_cause_irritation', 'may_worsen_dry_skin',\n",
       "       'may_worsen_oily_skin', 'may_cause_acne', 'may_worsen_eczema',\n",
       "       'may_worsen_rosacea', '_may_worsen_dry_skin',\n",
       "       '_may_worsen_oily_skin', '_may_cause_irritation',\n",
       "       '_may_cause_acne', '_may_worsen_eczema'], dtype=object)"
      ]
     },
     "execution_count": 34,
     "metadata": {},
     "output_type": "execute_result"
    }
   ],
   "source": [
    "def replace_and_strip(data):\n",
    "    if isinstance(data, dict):\n",
    "        return {k.strip().replace(' ', '_'): replace_and_strip(v) for k, v in data.items()}\n",
    "    elif isinstance(data, list):\n",
    "        return [replace_and_strip(i) for i in data]\n",
    "    elif isinstance(data, str):\n",
    "        return data.strip().replace(' ', '_')\n",
    "    else:\n",
    "        return data   \n",
    "    \n",
    "df = pd.read_excel(r\"C:\\Users\\greys\\projects\\azure-swa\\my-static-web-app\\api\\src\\external\\products\\v2\\products.xlsx\").dropna()\n",
    "unique_concerns = pd.unique([key for sublist in df['concern_list'].apply(preprocess, eval=True) for key in sublist.keys()])\n",
    "unique_concerns"
   ]
  },
  {
   "cell_type": "code",
   "execution_count": 30,
   "metadata": {},
   "outputs": [
    {
     "data": {
      "text/plain": [
       "{'dry_skin': 'may_worsen_dry_skin',\n",
       " 'oily_skin': 'may_worsen_oily_skin',\n",
       " 'psoriasis': 'may_worsen_psoriasis',\n",
       " 'atopic_dermatitis': 'may_worsen_eczema',\n",
       " 'acne': 'may_cause_acne',\n",
       " 'rosacea': 'may_worsen_rosacea'}"
      ]
     },
     "execution_count": 30,
     "metadata": {},
     "output_type": "execute_result"
    }
   ],
   "source": [
    "def preprocess(d,eval=False):\n",
    "    if eval:\n",
    "        return preprocess(literal_eval(d))\n",
    "    if isinstance(d,dict):\n",
    "        return { preprocess(k):preprocess(v) for k,v in d.items() }\n",
    "    elif isinstance(d,list):\n",
    "        return [preprocess(i) for i in d]\n",
    "    elif isinstance(d,str):\n",
    "        return d.replace(' ', '_').lower()\n",
    "    \n",
    "# Creating a dictionary\n",
    "conditions = [\"Dry Skin\", \"Oily Skin\",\"Psoriasis\", \"Atopic dermatitis\", \"Acne\", \"Rosacea\"]\n",
    "concerns = [\"May Worsen Dry Skin\", \"May Worsen Oily Skin\", \"May Worsen Psoriasis\", \"May Worsen Eczema\", \"May Cause Acne\", \"May Worsen Rosacea\"]\n",
    "condition_concern_mapping = preprocess(dict(zip(conditions, concerns)))\n",
    "condition_concern_mapping"
   ]
  },
  {
   "cell_type": "code",
   "execution_count": null,
   "metadata": {},
   "outputs": [],
   "source": []
  }
 ],
 "metadata": {
  "kernelspec": {
   "display_name": "snpdemo",
   "language": "python",
   "name": "python3"
  },
  "language_info": {
   "codemirror_mode": {
    "name": "ipython",
    "version": 3
   },
   "file_extension": ".py",
   "mimetype": "text/x-python",
   "name": "python",
   "nbconvert_exporter": "python",
   "pygments_lexer": "ipython3",
   "version": "3.10.11"
  },
  "orig_nbformat": 4
 },
 "nbformat": 4,
 "nbformat_minor": 2
}
